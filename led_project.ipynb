{
 "cells": [
  {
   "cell_type": "code",
   "execution_count": 8,
   "metadata": {},
   "outputs": [],
   "source": [
    "%load_ext autoreload\n",
    "%autoreload 2"
   ]
  },
  {
   "cell_type": "code",
   "execution_count": 11,
   "metadata": {},
   "outputs": [],
   "source": [
    "import cv2\n",
    "\n",
    "def process_img(roi):\n",
    "    cv2.imshow(\"Cropped Video\", roi)"
   ]
  },
  {
   "cell_type": "code",
   "execution_count": 12,
   "metadata": {},
   "outputs": [
    {
     "name": "stdout",
     "output_type": "stream",
     "text": [
      "False []\n",
      "False [(24, 372), (248, 493)]\n",
      "Press 'q' to stop the video.\n",
      "Video ended.\n"
     ]
    }
   ],
   "source": [
    "import cv2\n",
    "import numpy as np\n",
    "from crop import MouseEvent #,ref_points\n",
    "\n",
    "# ref_points\n",
    "\n",
    "start_playing=False\n",
    "# Open a video file\n",
    "video_capture = cv2.VideoCapture('data/video1.mp4')\n",
    "\n",
    "# Check if the video capture object is successfully opened\n",
    "if not video_capture.isOpened():\n",
    "    print(\"Error: Unable to open video source.\")\n",
    "    exit()\n",
    "\n",
    "# Get video properties\n",
    "frame_width = int(video_capture.get(3))\n",
    "frame_height = int(video_capture.get(4))\n",
    "fps = video_capture.get(5)\n",
    "\n",
    "# Create VideoWriter object to save the cropped video\n",
    "# You can change the codec based on your preference\n",
    "fourcc = cv2.VideoWriter_fourcc(*'MJPG')\n",
    "output_video = cv2.VideoWriter(\n",
    "    'result/out.avi', fourcc, fps, (frame_width, frame_height))\n",
    "\n",
    "\n",
    "_, frame = video_capture.read()\n",
    "Window_Name=\"Video\"\n",
    "# cv2.namedWindow(Window_Name)\n",
    "event=MouseEvent(frame,Window_Name)\n",
    "event.get_coordinates()\n",
    "\n",
    "while True:\n",
    "    ret, frame = video_capture.read()\n",
    "\n",
    "\n",
    "    if not ret:\n",
    "        print(\"Video ended.\")\n",
    "        break\n",
    "\n",
    "    clone = frame.copy()\n",
    "\n",
    "    # if not start_playing:\n",
    "        \n",
    "    \n",
    "    if not start_playing:\n",
    "        cv2.imshow(Window_Name, frame)\n",
    "        key = cv2.waitKey(0) & 0xFF\n",
    "        if key == ord(\"p\") and len(event.ref_points) == 2:\n",
    "            start_playing = True\n",
    "            print(\"Press 'q' to stop the video.\")\n",
    "\n",
    "    \n",
    "    # Press 'p' to start playing the video after setting the bounding box\n",
    "    \n",
    "\n",
    "    # Break the loop when 'q' key is pressed\n",
    "    if key == ord(\"q\"):\n",
    "        break\n",
    "\n",
    "    # If the bounding box is set, crop and display the video\n",
    "    if len(event.ref_points) == 2 and start_playing:\n",
    "        roi = clone[event.ref_points[0][1]:event.ref_points[1]\n",
    "                    [1], event.ref_points[0][0]:event.ref_points[1][0]]\n",
    "        \n",
    "        process_img(roi)\n",
    "        output_video.write(roi)\n",
    "    \n",
    "    cv2.waitKey(int(1/fps*1000.0))\n",
    "\n",
    "# Release the video capture object, close the windows, and release the VideoWriter\n",
    "video_capture.release()\n",
    "output_video.release()\n",
    "cv2.destroyAllWindows()\n"
   ]
  }
 ],
 "metadata": {
  "kernelspec": {
   "display_name": "Python 3",
   "language": "python",
   "name": "python3"
  },
  "language_info": {
   "codemirror_mode": {
    "name": "ipython",
    "version": 3
   },
   "file_extension": ".py",
   "mimetype": "text/x-python",
   "name": "python",
   "nbconvert_exporter": "python",
   "pygments_lexer": "ipython3",
   "version": "3.8.10"
  }
 },
 "nbformat": 4,
 "nbformat_minor": 2
}
