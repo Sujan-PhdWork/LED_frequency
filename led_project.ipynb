{
 "cells": [
  {
   "cell_type": "code",
   "execution_count": 7,
   "metadata": {},
   "outputs": [],
   "source": [
    "%load_ext autoreload\n",
    "%autoreload 2"
   ]
  },
  {
   "cell_type": "code",
   "execution_count": 6,
   "metadata": {},
   "outputs": [
    {
     "name": "stdout",
     "output_type": "stream",
     "text": [
      "30\n"
     ]
    }
   ],
   "source": [
    "import numpy as np\n",
    "import cv2\n",
    "from transformation import * \n",
    " \n",
    "# Read input video\n",
    "cap = cv2.VideoCapture('data/video1.mp4')\n",
    "\n",
    "if (cap.isOpened() == False):\n",
    "    print(\"Error reading video file\")\n",
    " \n",
    "frames=[]\n",
    "\n",
    "\n",
    "# Get frame count\n",
    "fps = int(cap.get(cv2.CAP_PROP_FPS))\n",
    "\n",
    "print(fps)\n",
    " \n",
    "# Get width and height of video stream\n",
    "w = int(cap.get(cv2.CAP_PROP_FRAME_WIDTH))\n",
    "h = int(cap.get(cv2.CAP_PROP_FRAME_HEIGHT))\n",
    " \n",
    "# Define the codec for output video\n",
    "fourcc = cv2.VideoWriter_fourcc(*'MJPG')\n",
    "\n",
    "\n",
    " \n",
    "# Set up output video\n",
    "out = cv2.VideoWriter('result/video1_out.avi', fourcc, fps, (w, h))\n",
    "\n",
    "\n",
    "while(True):\n",
    "    ret, img = cap.read()\n",
    "\n",
    "    if not ret:\n",
    "       break\n",
    "    \n",
    "    frames.append(img)\n",
    "    \n",
    "    if len(frames)==1:\n",
    "       out.write(frames[-1])\n",
    "       continue\n",
    "\n",
    "    T=Affine_trans(frames[-2],frames[-1])\n",
    "\n",
    "\n",
    "    inv_T=np.linalg.inv(T)\n",
    "\n",
    "    frames[-1] = cv2.warpAffine(frames[-1], inv_T[:2, :3], (w, h))\n",
    "\n",
    "    # print(\"Frame: \" + str(i) + \"/\" + str(n_frames) +\n",
    "    #     \" -  Tracked points : \" + str(len(prev_pts)))\n",
    "\n",
    "\n",
    "    key = cv2.waitKey(30) & 0xFF\n",
    "    cv2.waitKey(30)\n",
    "    out.write(frames[-1])\n",
    "    cv2.imshow(\"frame\",frames[-1])\n",
    "    cv2.imshow(\"original\", img)\n",
    "\n",
    "cap.release()\n",
    "out.release()\n",
    "cv2.destroyAllWindows()\n"
   ]
  },
  {
   "cell_type": "code",
   "execution_count": 5,
   "metadata": {},
   "outputs": [],
   "source": []
  },
  {
   "cell_type": "code",
   "execution_count": 7,
   "metadata": {},
   "outputs": [
    {
     "name": "stdout",
     "output_type": "stream",
     "text": [
      "Press 'q' to stop the video.\n",
      "Video ended.\n"
     ]
    }
   ],
   "source": [
    "import cv2\n",
    "import numpy as np\n",
    "from crop import MouseEvent\n",
    "\n",
    "start_playing=False\n",
    "# Open a video file\n",
    "video_capture = cv2.VideoCapture('data/video1.mp4')\n",
    "\n",
    "# Check if the video capture object is successfully opened\n",
    "if not video_capture.isOpened():\n",
    "    print(\"Error: Unable to open video source.\")\n",
    "    exit()\n",
    "\n",
    "# Get video properties\n",
    "frame_width = int(video_capture.get(3))\n",
    "frame_height = int(video_capture.get(4))\n",
    "fps = video_capture.get(5)\n",
    "\n",
    "# Create VideoWriter object to save the cropped video\n",
    "# You can change the codec based on your preference\n",
    "fourcc = cv2.VideoWriter_fourcc(*'MJPG')\n",
    "output_video = cv2.VideoWriter(\n",
    "    'result/out.avi', fourcc, fps, (frame_width, frame_height))\n",
    "\n",
    "\n",
    "_, frame = video_capture.read()\n",
    "Window_Name=\"Video\"\n",
    "cv2.namedWindow(Window_Name)\n",
    "ref_points=MouseEvent(Window_Name,frame,start_playing)\n",
    "\n",
    "while True:\n",
    "    ret, frame = video_capture.read()\n",
    "\n",
    "\n",
    "    if not ret:\n",
    "        print(\"Video ended.\")\n",
    "        break\n",
    "\n",
    "    clone = frame.copy()\n",
    "\n",
    "    if not start_playing:\n",
    "        cv2.imshow(Window_Name, frame)\n",
    "    \n",
    "    if not start_playing:\n",
    "        key = cv2.waitKey(0) & 0xFF\n",
    "        if key == ord(\"p\") and len(ref_points) == 2:\n",
    "            start_playing = True\n",
    "            print(\"Press 'q' to stop the video.\")\n",
    "\n",
    "    \n",
    "    # Press 'p' to start playing the video after setting the bounding box\n",
    "    \n",
    "\n",
    "    # Break the loop when 'q' key is pressed\n",
    "    if key == ord(\"q\"):\n",
    "        break\n",
    "\n",
    "    # If the bounding box is set, crop and display the video\n",
    "    if len(ref_points) == 2 and start_playing:\n",
    "        roi = clone[ref_points[0][1]:ref_points[1]\n",
    "                    [1], ref_points[0][0]:ref_points[1][0]]\n",
    "        \n",
    "        cv2.imshow(\"Cropped Video\", roi)\n",
    "        output_video.write(roi)\n",
    "    \n",
    "    cv2.waitKey(int(1/fps*1000.0))\n",
    "\n",
    "# Release the video capture object, close the windows, and release the VideoWriter\n",
    "video_capture.release()\n",
    "output_video.release()\n",
    "cv2.destroyAllWindows()\n"
   ]
  },
  {
   "cell_type": "code",
   "execution_count": 6,
   "metadata": {},
   "outputs": [
    {
     "name": "stdout",
     "output_type": "stream",
     "text": [
      "Can't receive frame (stream end?). Exiting ...\n"
     ]
    }
   ],
   "source": []
  }
 ],
 "metadata": {
  "kernelspec": {
   "display_name": "Python 3",
   "language": "python",
   "name": "python3"
  },
  "language_info": {
   "codemirror_mode": {
    "name": "ipython",
    "version": 3
   },
   "file_extension": ".py",
   "mimetype": "text/x-python",
   "name": "python",
   "nbconvert_exporter": "python",
   "pygments_lexer": "ipython3",
   "version": "3.8.10"
  }
 },
 "nbformat": 4,
 "nbformat_minor": 2
}
