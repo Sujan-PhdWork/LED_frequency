{
 "cells": [
  {
   "cell_type": "code",
   "execution_count": 20,
   "metadata": {},
   "outputs": [],
   "source": [
    "import cv2\n",
    "import numpy as np"
   ]
  },
  {
   "cell_type": "code",
   "execution_count": null,
   "metadata": {},
   "outputs": [],
   "source": [
    "class Frame(object):\n",
    "    def __init__(self,img) -> None:\n",
    "        self.frame=img\n",
    "        "
   ]
  },
  {
   "cell_type": "code",
   "execution_count": 21,
   "metadata": {},
   "outputs": [],
   "source": [
    "def Affine_trans(prev,curr):\n",
    "    prev_gray = cv2.cvtColor(prev, cv2.COLOR_BGR2GRAY)\n",
    "    curr_gray = cv2.cvtColor(curr, cv2.COLOR_BGR2GRAY)\n",
    "\n",
    "\n",
    "    prev_pts = cv2.goodFeaturesToTrack(prev_gray,\n",
    "                                       maxCorners=200,\n",
    "                                       qualityLevel=0.01,\n",
    "                                       minDistance=30,\n",
    "                                       blockSize=3)\n",
    "    \n",
    "    curr_pts, status, err = cv2.calcOpticalFlowPyrLK(\n",
    "        prev_gray, curr_gray, prev_pts, None)\n",
    "    \n",
    "    assert prev_pts.shape == curr_pts.shape\n",
    "\n",
    "    # Filter only valid points\n",
    "    idx = np.where(status == 1)[0]\n",
    "    prev_pts = prev_pts[idx]\n",
    "    curr_pts = curr_pts[idx]\n",
    "\n",
    "    #Find transformation matrix\n",
    "\n",
    "    [m, inliers] = cv2.estimateAffinePartial2D(prev_pts, curr_pts)\n",
    "    M_matrix = np.vstack((m, np.array([0, 0, 1])))\n",
    "\n",
    "    return M_matrix\n",
    "    \n",
    "    \n",
    "\n",
    "    "
   ]
  },
  {
   "cell_type": "code",
   "execution_count": 38,
   "metadata": {},
   "outputs": [
    {
     "name": "stdout",
     "output_type": "stream",
     "text": [
      "Error reading video file\n",
      "0\n"
     ]
    },
    {
     "name": "stderr",
     "output_type": "stream",
     "text": [
      "[mov,mp4,m4a,3gp,3g2,mj2 @ 0x1f77c00] error reading header\n",
      "[ERROR:0@5889.974] global cap.cpp:643 open VIDEOIO(CV_MJPEG): raised OpenCV exception:\n",
      "\n",
      "OpenCV(4.8.1) /io/opencv/modules/videoio/src/cap_mjpeg_encoder.cpp:436: error: (-215:Assertion failed) fps >= 1 in function 'open'\n",
      "\n",
      "\n"
     ]
    }
   ],
   "source": [
    "import numpy as np\n",
    "import cv2\n",
    " \n",
    "# Read input video\n",
    "cap = cv2.VideoCapture('video3.mp4')\n",
    "\n",
    "if (cap.isOpened() == False):\n",
    "    print(\"Error reading video file\")\n",
    " \n",
    "frames=[]\n",
    "\n",
    "\n",
    "# Get frame count\n",
    "fps = int(cap.get(cv2.CAP_PROP_FPS))\n",
    "\n",
    "print(fps)\n",
    " \n",
    "# Get width and height of video stream\n",
    "w = int(cap.get(cv2.CAP_PROP_FRAME_WIDTH))\n",
    "h = int(cap.get(cv2.CAP_PROP_FRAME_HEIGHT))\n",
    " \n",
    "# Define the codec for output video\n",
    "fourcc = cv2.VideoWriter_fourcc(*'MJPG')\n",
    "\n",
    "\n",
    " \n",
    "# Set up output video\n",
    "out = cv2.VideoWriter('video3_out.avi', fourcc, fps, (w, h))\n",
    "\n",
    "\n",
    "while(True):\n",
    "    ret, img = cap.read()\n",
    "\n",
    "    if not ret:\n",
    "       break\n",
    "    \n",
    "    frames.append(img)\n",
    "    \n",
    "    if len(frames)==1:\n",
    "       out.write(frames[-1])\n",
    "       continue\n",
    "\n",
    "    T=Affine_trans(frames[-2],frames[-1])\n",
    "\n",
    "\n",
    "    inv_T=np.linalg.inv(T)\n",
    "\n",
    "    frames[-1] = cv2.warpAffine(frames[-1], inv_T[:2, :3], (w, h))\n",
    "\n",
    "    # print(\"Frame: \" + str(i) + \"/\" + str(n_frames) +\n",
    "    #     \" -  Tracked points : \" + str(len(prev_pts)))\n",
    "\n",
    "\n",
    "\n",
    "    cv2.waitKey(30)\n",
    "    out.write(frames[-1])\n",
    "    cv2.imshow(\"frame\",frames[-1])\n",
    "    cv2.imshow(\"original\", img)\n",
    "\n",
    "cap.release()\n",
    "out.release()\n",
    "cv2.destroyAllWindows()\n"
   ]
  }
 ],
 "metadata": {
  "kernelspec": {
   "display_name": "Python 3",
   "language": "python",
   "name": "python3"
  },
  "language_info": {
   "codemirror_mode": {
    "name": "ipython",
    "version": 3
   },
   "file_extension": ".py",
   "mimetype": "text/x-python",
   "name": "python",
   "nbconvert_exporter": "python",
   "pygments_lexer": "ipython3",
   "version": "3.8.10"
  }
 },
 "nbformat": 4,
 "nbformat_minor": 2
}
